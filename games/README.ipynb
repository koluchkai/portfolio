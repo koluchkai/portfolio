{
 "cells": [
  {
   "cell_type": "markdown",
   "metadata": {},
   "source": [
    "# Исследование рынка игр\n",
    "\n",
    "\n",
    "## Данные\n",
    "\n",
    "В наличии были следующие данные об играх:\n",
    "- название игры\n",
    "- платформа\n",
    "- год выпуска\n",
    "- жанр игры\n",
    "- продажи в Северной Америке (миллионы долларов)\n",
    "- продажи в Европе (миллионы долларов)\n",
    "- продажи в Японии (миллионы долларов)\n",
    "- продажи в других странах (миллионы долларов)\n",
    "- оценка критиков (максимум 100)\n",
    "- оценка пользователей (максимум 10)\n",
    "- рейтинг от организации ESRB (англ. Entertainment Software Rating Board). Эта ассоциация определяет рейтинг компьютерных игр и присваивает им подходящую возрастную категорию.\n",
    "\n",
    "## Задача\n",
    "\n",
    "Основываясь на исторических данных о продажах компьютерных игр, оценкахпользователей и экспертов, жанрах и платформах, выявить закономерности, определяющие успешность игр.  \n",
    "\n",
    "## Используемые библиотеки\n",
    "*pandas*, *matplotlib*, *seaborn*, *numpy*, *scipy*"
   ]
  },
  {
   "cell_type": "code",
   "execution_count": null,
   "metadata": {},
   "outputs": [],
   "source": []
  }
 ],
 "metadata": {
  "kernelspec": {
   "display_name": "Python 3",
   "language": "python",
   "name": "python3"
  },
  "language_info": {
   "codemirror_mode": {
    "name": "ipython",
    "version": 3
   },
   "file_extension": ".py",
   "mimetype": "text/x-python",
   "name": "python",
   "nbconvert_exporter": "python",
   "pygments_lexer": "ipython3",
   "version": "3.7.4"
  }
 },
 "nbformat": 4,
 "nbformat_minor": 2
}
